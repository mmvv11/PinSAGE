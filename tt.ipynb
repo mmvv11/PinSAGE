{
 "cells": [
  {
   "cell_type": "code",
   "execution_count": 2,
   "metadata": {
    "collapsed": true
   },
   "outputs": [],
   "source": [
    "import pandas as pd\n",
    "import json"
   ]
  },
  {
   "cell_type": "code",
   "execution_count": 3,
   "outputs": [],
   "source": [
    "with open(\"./data/user.json\") as u:\n",
    "    user_json = json.load(u)\n",
    "with open(\"./data/wine.json\") as u:\n",
    "    wine_json = json.load(u)\n",
    "\n",
    "user_data=user_json['data']\n",
    "wine_data = wine_json['data']\n",
    "user_df = pd.DataFrame.from_dict(user_data)\n",
    "wine_df = pd.DataFrame.from_dict(wine_data)"
   ],
   "metadata": {
    "collapsed": false
   }
  },
  {
   "cell_type": "code",
   "execution_count": 4,
   "outputs": [
    {
     "data": {
      "text/plain": "  index    userID  user_follower_count  user_rating_count\n0     0   5145589               5364.0            16610.0\n1     1   2430463               3839.0            14920.0\n2     2   2867095              22586.0            11441.0\n3     3    248277               8856.0            12502.0\n4     4  11195950               1738.0            11530.0",
      "text/html": "<div>\n<style scoped>\n    .dataframe tbody tr th:only-of-type {\n        vertical-align: middle;\n    }\n\n    .dataframe tbody tr th {\n        vertical-align: top;\n    }\n\n    .dataframe thead th {\n        text-align: right;\n    }\n</style>\n<table border=\"1\" class=\"dataframe\">\n  <thead>\n    <tr style=\"text-align: right;\">\n      <th></th>\n      <th>index</th>\n      <th>userID</th>\n      <th>user_follower_count</th>\n      <th>user_rating_count</th>\n    </tr>\n  </thead>\n  <tbody>\n    <tr>\n      <th>0</th>\n      <td>0</td>\n      <td>5145589</td>\n      <td>5364.0</td>\n      <td>16610.0</td>\n    </tr>\n    <tr>\n      <th>1</th>\n      <td>1</td>\n      <td>2430463</td>\n      <td>3839.0</td>\n      <td>14920.0</td>\n    </tr>\n    <tr>\n      <th>2</th>\n      <td>2</td>\n      <td>2867095</td>\n      <td>22586.0</td>\n      <td>11441.0</td>\n    </tr>\n    <tr>\n      <th>3</th>\n      <td>3</td>\n      <td>248277</td>\n      <td>8856.0</td>\n      <td>12502.0</td>\n    </tr>\n    <tr>\n      <th>4</th>\n      <td>4</td>\n      <td>11195950</td>\n      <td>1738.0</td>\n      <td>11530.0</td>\n    </tr>\n  </tbody>\n</table>\n</div>"
     },
     "execution_count": 4,
     "metadata": {},
     "output_type": "execute_result"
    }
   ],
   "source": [
    "user_df.head()"
   ],
   "metadata": {
    "collapsed": false
   }
  },
  {
   "cell_type": "code",
   "execution_count": 5,
   "outputs": [
    {
     "data": {
      "text/plain": "  index  wine_id                        name  rating_average  body  acidity_x  \\\n0     0  1938520     1882 Cabernet Sauvignon             4.1   5.0        2.0   \n1     1    14604      Les Bessards Hermitage             4.3   5.0        3.0   \n2     2  1930757      Patriarch Estate Grown             4.6   4.0        3.0   \n3     3  1564280                      Merlot             4.3   4.0        3.0   \n4     4  2576427  Cabernet Sauvignon F Block             4.4   5.0        2.0   \n\n   alcohol grapes_id  \n0     14.5       [2]  \n1     14.0       [1]  \n2     14.2   [2, 10]  \n3     14.4      [10]  \n4      0.0       [2]  ",
      "text/html": "<div>\n<style scoped>\n    .dataframe tbody tr th:only-of-type {\n        vertical-align: middle;\n    }\n\n    .dataframe tbody tr th {\n        vertical-align: top;\n    }\n\n    .dataframe thead th {\n        text-align: right;\n    }\n</style>\n<table border=\"1\" class=\"dataframe\">\n  <thead>\n    <tr style=\"text-align: right;\">\n      <th></th>\n      <th>index</th>\n      <th>wine_id</th>\n      <th>name</th>\n      <th>rating_average</th>\n      <th>body</th>\n      <th>acidity_x</th>\n      <th>alcohol</th>\n      <th>grapes_id</th>\n    </tr>\n  </thead>\n  <tbody>\n    <tr>\n      <th>0</th>\n      <td>0</td>\n      <td>1938520</td>\n      <td>1882 Cabernet Sauvignon</td>\n      <td>4.1</td>\n      <td>5.0</td>\n      <td>2.0</td>\n      <td>14.5</td>\n      <td>[2]</td>\n    </tr>\n    <tr>\n      <th>1</th>\n      <td>1</td>\n      <td>14604</td>\n      <td>Les Bessards Hermitage</td>\n      <td>4.3</td>\n      <td>5.0</td>\n      <td>3.0</td>\n      <td>14.0</td>\n      <td>[1]</td>\n    </tr>\n    <tr>\n      <th>2</th>\n      <td>2</td>\n      <td>1930757</td>\n      <td>Patriarch Estate Grown</td>\n      <td>4.6</td>\n      <td>4.0</td>\n      <td>3.0</td>\n      <td>14.2</td>\n      <td>[2, 10]</td>\n    </tr>\n    <tr>\n      <th>3</th>\n      <td>3</td>\n      <td>1564280</td>\n      <td>Merlot</td>\n      <td>4.3</td>\n      <td>4.0</td>\n      <td>3.0</td>\n      <td>14.4</td>\n      <td>[10]</td>\n    </tr>\n    <tr>\n      <th>4</th>\n      <td>4</td>\n      <td>2576427</td>\n      <td>Cabernet Sauvignon F Block</td>\n      <td>4.4</td>\n      <td>5.0</td>\n      <td>2.0</td>\n      <td>0.0</td>\n      <td>[2]</td>\n    </tr>\n  </tbody>\n</table>\n</div>"
     },
     "execution_count": 5,
     "metadata": {},
     "output_type": "execute_result"
    }
   ],
   "source": [
    "wine_df.head()"
   ],
   "metadata": {
    "collapsed": false
   }
  },
  {
   "cell_type": "code",
   "execution_count": 6,
   "outputs": [],
   "source": [
    "import dgl\n",
    "import torch as th"
   ],
   "metadata": {
    "collapsed": false
   }
  },
  {
   "cell_type": "code",
   "execution_count": 7,
   "outputs": [
    {
     "data": {
      "text/plain": "Graph(num_nodes={'disease': 3, 'drug': 3, 'gene': 4},\n      num_edges={('drug', 'interacts', 'drug'): 2, ('drug', 'interacts', 'gene'): 2, ('drug', 'treats', 'disease'): 1},\n      metagraph=[('drug', 'drug', 'interacts'), ('drug', 'gene', 'interacts'), ('drug', 'disease', 'treats')])"
     },
     "execution_count": 7,
     "metadata": {},
     "output_type": "execute_result"
    }
   ],
   "source": [
    "graph_data = {\n",
    "   ('drug', 'interacts', 'drug'): (th.tensor([0, 1]), th.tensor([1, 2])),\n",
    "   ('drug', 'interacts', 'gene'): (th.tensor([0, 1]), th.tensor([2, 3])),\n",
    "   ('drug', 'treats', 'disease'): (th.tensor([1]), th.tensor([2]))\n",
    "}\n",
    "g = dgl.heterograph(graph_data)\n",
    "g"
   ],
   "metadata": {
    "collapsed": false
   }
  },
  {
   "cell_type": "code",
   "execution_count": 8,
   "outputs": [
    {
     "data": {
      "text/plain": "['disease', 'drug', 'gene']"
     },
     "execution_count": 8,
     "metadata": {},
     "output_type": "execute_result"
    }
   ],
   "source": [
    "g.ntypes"
   ],
   "metadata": {
    "collapsed": false
   }
  },
  {
   "cell_type": "code",
   "execution_count": 9,
   "outputs": [
    {
     "data": {
      "text/plain": "['interacts', 'interacts', 'treats']"
     },
     "execution_count": 9,
     "metadata": {},
     "output_type": "execute_result"
    }
   ],
   "source": [
    "g.etypes"
   ],
   "metadata": {
    "collapsed": false
   }
  },
  {
   "cell_type": "code",
   "execution_count": 10,
   "outputs": [
    {
     "data": {
      "text/plain": "[('drug', 'interacts', 'drug'),\n ('drug', 'interacts', 'gene'),\n ('drug', 'treats', 'disease')]"
     },
     "execution_count": 10,
     "metadata": {},
     "output_type": "execute_result"
    }
   ],
   "source": [
    "g.canonical_etypes"
   ],
   "metadata": {
    "collapsed": false
   }
  },
  {
   "cell_type": "code",
   "execution_count": 11,
   "outputs": [
    {
     "data": {
      "text/plain": "tensor([0, 1, 2])"
     },
     "execution_count": 11,
     "metadata": {},
     "output_type": "execute_result"
    }
   ],
   "source": [
    "th.arange(g.number_of_nodes(\"drug\"))"
   ],
   "metadata": {
    "collapsed": false
   }
  },
  {
   "cell_type": "code",
   "execution_count": 12,
   "outputs": [
    {
     "data": {
      "text/plain": "tensor([0, 1, 2])"
     },
     "execution_count": 12,
     "metadata": {},
     "output_type": "execute_result"
    }
   ],
   "source": [
    "g.nodes['drug'].data[\"id\"] = th.arange(g.number_of_nodes(\"drug\"))\n",
    "g.nodes['drug'].data[\"id\"]"
   ],
   "metadata": {
    "collapsed": false
   }
  },
  {
   "cell_type": "code",
   "execution_count": 13,
   "outputs": [
    {
     "data": {
      "text/plain": "['interacts']"
     },
     "execution_count": 13,
     "metadata": {},
     "output_type": "execute_result"
    }
   ],
   "source": [
    "list(g.metagraph()['drug']['drug'])"
   ],
   "metadata": {
    "collapsed": false
   }
  },
  {
   "cell_type": "code",
   "execution_count": 14,
   "outputs": [
    {
     "data": {
      "text/plain": "tensor([5, 5, 1, 1, 7, 4, 0, 3, 0, 0])"
     },
     "execution_count": 14,
     "metadata": {},
     "output_type": "execute_result"
    }
   ],
   "source": [
    "th.randint(0, 10, (10,))"
   ],
   "metadata": {
    "collapsed": false
   }
  },
  {
   "cell_type": "code",
   "execution_count": 15,
   "outputs": [
    {
     "data": {
      "text/plain": "True"
     },
     "execution_count": 15,
     "metadata": {},
     "output_type": "execute_result"
    }
   ],
   "source": [
    "not(2 % 1)"
   ],
   "metadata": {
    "collapsed": false
   }
  },
  {
   "cell_type": "code",
   "execution_count": 16,
   "outputs": [],
   "source": [
    "import pickle\n",
    "import pandas as pd"
   ],
   "metadata": {
    "collapsed": false
   }
  },
  {
   "cell_type": "code",
   "execution_count": 117,
   "outputs": [],
   "source": [
    "with open(\"data.pkl\", 'rb') as f:\n",
    "    dataset = pickle.load(f)"
   ],
   "metadata": {
    "collapsed": false
   }
  },
  {
   "cell_type": "code",
   "execution_count": 118,
   "outputs": [],
   "source": [
    "data_dict = {\n",
    "        'graph': dataset['train-graph'],\n",
    "        'val_matrix': None,\n",
    "        'test_matrix': None,\n",
    "        'item_texts': dataset['item-texts'],\n",
    "        'testset': dataset['testset'],\n",
    "        'user_ntype': dataset['user-type'],\n",
    "        'item_ntype': dataset['item-type'],\n",
    "        'user_to_item_etype': dataset['user-to-item-type'],\n",
    "        'timestamp': dataset['timestamp-edge-column'],\n",
    "        'user_category': dataset['user-category'],\n",
    "        'item_category': dataset['item-category']\n",
    "    }"
   ],
   "metadata": {
    "collapsed": false
   }
  },
  {
   "cell_type": "code",
   "execution_count": 119,
   "outputs": [
    {
     "data": {
      "text/plain": "Graph(num_nodes={'user': 21, 'wine': 117},\n      num_edges={('user', 'rated', 'wine'): 145, ('wine', 'rated-by', 'user'): 145},\n      metagraph=[('user', 'wine', 'rated'), ('wine', 'user', 'rated-by')])"
     },
     "execution_count": 119,
     "metadata": {},
     "output_type": "execute_result"
    }
   ],
   "source": [
    "data_dict['graph']"
   ],
   "metadata": {
    "collapsed": false
   }
  },
  {
   "cell_type": "code",
   "execution_count": 120,
   "outputs": [
    {
     "data": {
      "text/plain": "{3: 1371789,\n 2: 1009837,\n 6: 2138129,\n 0: 73013,\n 5: 2076035,\n 4: 1739543,\n 1: 183836,\n 14: 9187145,\n 13: 8882561,\n 12: 4505281,\n 9: 3774978,\n 15: 10822212,\n 17: 13191685,\n 8: 3225781,\n 10: 3912706,\n 20: 26503486,\n 7: 2365098,\n 19: 19991573,\n 16: 11933651,\n 18: 18189324,\n 11: 3934018}"
     },
     "execution_count": 120,
     "metadata": {},
     "output_type": "execute_result"
    }
   ],
   "source": [
    "data_dict['user_category']"
   ],
   "metadata": {
    "collapsed": false
   }
  },
  {
   "cell_type": "code",
   "execution_count": null,
   "outputs": [],
   "source": [],
   "metadata": {
    "collapsed": false
   }
  },
  {
   "cell_type": "markdown",
   "source": [],
   "metadata": {
    "collapsed": false
   }
  },
  {
   "cell_type": "markdown",
   "source": [],
   "metadata": {
    "collapsed": false
   }
  },
  {
   "cell_type": "markdown",
   "source": [
    "## 데이터 전처리 하는 부분.."
   ],
   "metadata": {
    "collapsed": false
   }
  },
  {
   "cell_type": "code",
   "execution_count": 21,
   "outputs": [],
   "source": [
    "import os"
   ],
   "metadata": {
    "collapsed": false
   }
  },
  {
   "cell_type": "code",
   "execution_count": 22,
   "outputs": [
    {
     "name": "stdout",
     "output_type": "stream",
     "text": [
      "Processing Started!\n"
     ]
    },
    {
     "data": {
      "text/plain": "'C:\\\\tech\\\\Study\\\\pin\\\\PinSAGE\\\\data'"
     },
     "execution_count": 22,
     "metadata": {},
     "output_type": "execute_result"
    }
   ],
   "source": [
    "print('Processing Started!')\n",
    "path = os.getcwd()\n",
    "\n",
    "directory = os.path.join(path, \"data\")\n",
    "directory"
   ],
   "metadata": {
    "collapsed": false
   }
  },
  {
   "cell_type": "code",
   "execution_count": 23,
   "outputs": [
    {
     "data": {
      "text/plain": "       index    userID  user_follower_count  user_rating_count\n0          0   5145589               5364.0            16610.0\n1          1   2430463               3839.0            14920.0\n2          2   2867095              22586.0            11441.0\n3          3    248277               8856.0            12502.0\n4          4  11195950               1738.0            11530.0\n...      ...       ...                  ...                ...\n52250  52250  26790761                  1.0                0.0\n52251  52251  22784366                  1.0                1.0\n52252  52252   4465516                  0.0                0.0\n52253  52253  13591414                  0.0                1.0\n52254  52254   4870982                  0.0                0.0\n\n[52255 rows x 4 columns]",
      "text/html": "<div>\n<style scoped>\n    .dataframe tbody tr th:only-of-type {\n        vertical-align: middle;\n    }\n\n    .dataframe tbody tr th {\n        vertical-align: top;\n    }\n\n    .dataframe thead th {\n        text-align: right;\n    }\n</style>\n<table border=\"1\" class=\"dataframe\">\n  <thead>\n    <tr style=\"text-align: right;\">\n      <th></th>\n      <th>index</th>\n      <th>userID</th>\n      <th>user_follower_count</th>\n      <th>user_rating_count</th>\n    </tr>\n  </thead>\n  <tbody>\n    <tr>\n      <th>0</th>\n      <td>0</td>\n      <td>5145589</td>\n      <td>5364.0</td>\n      <td>16610.0</td>\n    </tr>\n    <tr>\n      <th>1</th>\n      <td>1</td>\n      <td>2430463</td>\n      <td>3839.0</td>\n      <td>14920.0</td>\n    </tr>\n    <tr>\n      <th>2</th>\n      <td>2</td>\n      <td>2867095</td>\n      <td>22586.0</td>\n      <td>11441.0</td>\n    </tr>\n    <tr>\n      <th>3</th>\n      <td>3</td>\n      <td>248277</td>\n      <td>8856.0</td>\n      <td>12502.0</td>\n    </tr>\n    <tr>\n      <th>4</th>\n      <td>4</td>\n      <td>11195950</td>\n      <td>1738.0</td>\n      <td>11530.0</td>\n    </tr>\n    <tr>\n      <th>...</th>\n      <td>...</td>\n      <td>...</td>\n      <td>...</td>\n      <td>...</td>\n    </tr>\n    <tr>\n      <th>52250</th>\n      <td>52250</td>\n      <td>26790761</td>\n      <td>1.0</td>\n      <td>0.0</td>\n    </tr>\n    <tr>\n      <th>52251</th>\n      <td>52251</td>\n      <td>22784366</td>\n      <td>1.0</td>\n      <td>1.0</td>\n    </tr>\n    <tr>\n      <th>52252</th>\n      <td>52252</td>\n      <td>4465516</td>\n      <td>0.0</td>\n      <td>0.0</td>\n    </tr>\n    <tr>\n      <th>52253</th>\n      <td>52253</td>\n      <td>13591414</td>\n      <td>0.0</td>\n      <td>1.0</td>\n    </tr>\n    <tr>\n      <th>52254</th>\n      <td>52254</td>\n      <td>4870982</td>\n      <td>0.0</td>\n      <td>0.0</td>\n    </tr>\n  </tbody>\n</table>\n<p>52255 rows × 4 columns</p>\n</div>"
     },
     "execution_count": 23,
     "metadata": {},
     "output_type": "execute_result"
    }
   ],
   "source": [
    "# User Data\n",
    "with open(os.path.join(directory, 'user.json')) as f:\n",
    "    user_json = json.load(f)\n",
    "users = pd.DataFrame(user_json[\"data\"])\n",
    "users"
   ],
   "metadata": {
    "collapsed": false
   }
  },
  {
   "cell_type": "code",
   "execution_count": 24,
   "outputs": [
    {
     "data": {
      "text/plain": "         userID  user_follower_count  user_rating_count\n0       5145589               5364.0            16610.0\n1       2430463               3839.0            14920.0\n2       2867095              22586.0            11441.0\n3        248277               8856.0            12502.0\n4      11195950               1738.0            11530.0\n...         ...                  ...                ...\n52250  26790761                  1.0                0.0\n52251  22784366                  1.0                1.0\n52252   4465516                  0.0                0.0\n52253  13591414                  0.0                1.0\n52254   4870982                  0.0                0.0\n\n[52255 rows x 3 columns]",
      "text/html": "<div>\n<style scoped>\n    .dataframe tbody tr th:only-of-type {\n        vertical-align: middle;\n    }\n\n    .dataframe tbody tr th {\n        vertical-align: top;\n    }\n\n    .dataframe thead th {\n        text-align: right;\n    }\n</style>\n<table border=\"1\" class=\"dataframe\">\n  <thead>\n    <tr style=\"text-align: right;\">\n      <th></th>\n      <th>userID</th>\n      <th>user_follower_count</th>\n      <th>user_rating_count</th>\n    </tr>\n  </thead>\n  <tbody>\n    <tr>\n      <th>0</th>\n      <td>5145589</td>\n      <td>5364.0</td>\n      <td>16610.0</td>\n    </tr>\n    <tr>\n      <th>1</th>\n      <td>2430463</td>\n      <td>3839.0</td>\n      <td>14920.0</td>\n    </tr>\n    <tr>\n      <th>2</th>\n      <td>2867095</td>\n      <td>22586.0</td>\n      <td>11441.0</td>\n    </tr>\n    <tr>\n      <th>3</th>\n      <td>248277</td>\n      <td>8856.0</td>\n      <td>12502.0</td>\n    </tr>\n    <tr>\n      <th>4</th>\n      <td>11195950</td>\n      <td>1738.0</td>\n      <td>11530.0</td>\n    </tr>\n    <tr>\n      <th>...</th>\n      <td>...</td>\n      <td>...</td>\n      <td>...</td>\n    </tr>\n    <tr>\n      <th>52250</th>\n      <td>26790761</td>\n      <td>1.0</td>\n      <td>0.0</td>\n    </tr>\n    <tr>\n      <th>52251</th>\n      <td>22784366</td>\n      <td>1.0</td>\n      <td>1.0</td>\n    </tr>\n    <tr>\n      <th>52252</th>\n      <td>4465516</td>\n      <td>0.0</td>\n      <td>0.0</td>\n    </tr>\n    <tr>\n      <th>52253</th>\n      <td>13591414</td>\n      <td>0.0</td>\n      <td>1.0</td>\n    </tr>\n    <tr>\n      <th>52254</th>\n      <td>4870982</td>\n      <td>0.0</td>\n      <td>0.0</td>\n    </tr>\n  </tbody>\n</table>\n<p>52255 rows × 3 columns</p>\n</div>"
     },
     "execution_count": 24,
     "metadata": {},
     "output_type": "execute_result"
    }
   ],
   "source": [
    "columns = ['userID', 'user_follower_count', 'user_rating_count']\n",
    "users = users[columns]\n",
    "users"
   ],
   "metadata": {
    "collapsed": false
   }
  },
  {
   "cell_type": "code",
   "execution_count": 25,
   "outputs": [
    {
     "data": {
      "text/plain": "         userID  user_follower_count  user_rating_count          user_feats\n0       5145589               5364.0            16610.0   [5364.0, 16610.0]\n1       2430463               3839.0            14920.0   [3839.0, 14920.0]\n2       2867095              22586.0            11441.0  [22586.0, 11441.0]\n3        248277               8856.0            12502.0   [8856.0, 12502.0]\n4      11195950               1738.0            11530.0   [1738.0, 11530.0]\n...         ...                  ...                ...                 ...\n52250  26790761                  1.0                0.0          [1.0, 0.0]\n52251  22784366                  1.0                1.0          [1.0, 1.0]\n52252   4465516                  0.0                0.0          [0.0, 0.0]\n52253  13591414                  0.0                1.0          [0.0, 1.0]\n52254   4870982                  0.0                0.0          [0.0, 0.0]\n\n[52255 rows x 4 columns]",
      "text/html": "<div>\n<style scoped>\n    .dataframe tbody tr th:only-of-type {\n        vertical-align: middle;\n    }\n\n    .dataframe tbody tr th {\n        vertical-align: top;\n    }\n\n    .dataframe thead th {\n        text-align: right;\n    }\n</style>\n<table border=\"1\" class=\"dataframe\">\n  <thead>\n    <tr style=\"text-align: right;\">\n      <th></th>\n      <th>userID</th>\n      <th>user_follower_count</th>\n      <th>user_rating_count</th>\n      <th>user_feats</th>\n    </tr>\n  </thead>\n  <tbody>\n    <tr>\n      <th>0</th>\n      <td>5145589</td>\n      <td>5364.0</td>\n      <td>16610.0</td>\n      <td>[5364.0, 16610.0]</td>\n    </tr>\n    <tr>\n      <th>1</th>\n      <td>2430463</td>\n      <td>3839.0</td>\n      <td>14920.0</td>\n      <td>[3839.0, 14920.0]</td>\n    </tr>\n    <tr>\n      <th>2</th>\n      <td>2867095</td>\n      <td>22586.0</td>\n      <td>11441.0</td>\n      <td>[22586.0, 11441.0]</td>\n    </tr>\n    <tr>\n      <th>3</th>\n      <td>248277</td>\n      <td>8856.0</td>\n      <td>12502.0</td>\n      <td>[8856.0, 12502.0]</td>\n    </tr>\n    <tr>\n      <th>4</th>\n      <td>11195950</td>\n      <td>1738.0</td>\n      <td>11530.0</td>\n      <td>[1738.0, 11530.0]</td>\n    </tr>\n    <tr>\n      <th>...</th>\n      <td>...</td>\n      <td>...</td>\n      <td>...</td>\n      <td>...</td>\n    </tr>\n    <tr>\n      <th>52250</th>\n      <td>26790761</td>\n      <td>1.0</td>\n      <td>0.0</td>\n      <td>[1.0, 0.0]</td>\n    </tr>\n    <tr>\n      <th>52251</th>\n      <td>22784366</td>\n      <td>1.0</td>\n      <td>1.0</td>\n      <td>[1.0, 1.0]</td>\n    </tr>\n    <tr>\n      <th>52252</th>\n      <td>4465516</td>\n      <td>0.0</td>\n      <td>0.0</td>\n      <td>[0.0, 0.0]</td>\n    </tr>\n    <tr>\n      <th>52253</th>\n      <td>13591414</td>\n      <td>0.0</td>\n      <td>1.0</td>\n      <td>[0.0, 1.0]</td>\n    </tr>\n    <tr>\n      <th>52254</th>\n      <td>4870982</td>\n      <td>0.0</td>\n      <td>0.0</td>\n      <td>[0.0, 0.0]</td>\n    </tr>\n  </tbody>\n</table>\n<p>52255 rows × 4 columns</p>\n</div>"
     },
     "execution_count": 25,
     "metadata": {},
     "output_type": "execute_result"
    }
   ],
   "source": [
    "users = users.dropna(subset=['userID'])\n",
    "users['user_feats'] = list(users[['user_follower_count', 'user_rating_count']].values)\n",
    "users"
   ],
   "metadata": {
    "collapsed": false
   }
  },
  {
   "cell_type": "code",
   "execution_count": 26,
   "outputs": [
    {
     "data": {
      "text/plain": "       index  wine_id                               name  rating_average  \\\n0          0  1938520            1882 Cabernet Sauvignon             4.1   \n1          1    14604             Les Bessards Hermitage             4.3   \n2          2  1930757             Patriarch Estate Grown             4.6   \n3          3  1564280                             Merlot             4.3   \n4          4  2576427         Cabernet Sauvignon F Block             4.4   \n...      ...      ...                                ...             ...   \n50855  50855  1669561           Garganega - Pinot Grigio             3.5   \n50856  50856  1861275             Dadà Langhe Chardonnay             3.8   \n50857  50857  2201892     Metodo Zero Prosecco Extra Dry             3.9   \n50858  50858  2396179          Les Monts Damnés Sancerre             4.2   \n50859  50859  7715684  Gran Paso a Paso Doble Monastrell             4.1   \n\n       body  acidity_x  alcohol  grapes_id  \n0       5.0        2.0     14.5        [2]  \n1       5.0        3.0     14.0        [1]  \n2       4.0        3.0     14.2    [2, 10]  \n3       4.0        3.0     14.4       [10]  \n4       5.0        2.0      0.0        [2]  \n...     ...        ...      ...        ...  \n50855   3.0        3.0      0.0  [104, 34]  \n50856   3.0        3.0     13.5        [5]  \n50857   1.0        3.0      0.0      [112]  \n50858   4.0        3.0     13.5       [17]  \n50859   5.0        3.0      0.0       [88]  \n\n[44023 rows x 8 columns]",
      "text/html": "<div>\n<style scoped>\n    .dataframe tbody tr th:only-of-type {\n        vertical-align: middle;\n    }\n\n    .dataframe tbody tr th {\n        vertical-align: top;\n    }\n\n    .dataframe thead th {\n        text-align: right;\n    }\n</style>\n<table border=\"1\" class=\"dataframe\">\n  <thead>\n    <tr style=\"text-align: right;\">\n      <th></th>\n      <th>index</th>\n      <th>wine_id</th>\n      <th>name</th>\n      <th>rating_average</th>\n      <th>body</th>\n      <th>acidity_x</th>\n      <th>alcohol</th>\n      <th>grapes_id</th>\n    </tr>\n  </thead>\n  <tbody>\n    <tr>\n      <th>0</th>\n      <td>0</td>\n      <td>1938520</td>\n      <td>1882 Cabernet Sauvignon</td>\n      <td>4.1</td>\n      <td>5.0</td>\n      <td>2.0</td>\n      <td>14.5</td>\n      <td>[2]</td>\n    </tr>\n    <tr>\n      <th>1</th>\n      <td>1</td>\n      <td>14604</td>\n      <td>Les Bessards Hermitage</td>\n      <td>4.3</td>\n      <td>5.0</td>\n      <td>3.0</td>\n      <td>14.0</td>\n      <td>[1]</td>\n    </tr>\n    <tr>\n      <th>2</th>\n      <td>2</td>\n      <td>1930757</td>\n      <td>Patriarch Estate Grown</td>\n      <td>4.6</td>\n      <td>4.0</td>\n      <td>3.0</td>\n      <td>14.2</td>\n      <td>[2, 10]</td>\n    </tr>\n    <tr>\n      <th>3</th>\n      <td>3</td>\n      <td>1564280</td>\n      <td>Merlot</td>\n      <td>4.3</td>\n      <td>4.0</td>\n      <td>3.0</td>\n      <td>14.4</td>\n      <td>[10]</td>\n    </tr>\n    <tr>\n      <th>4</th>\n      <td>4</td>\n      <td>2576427</td>\n      <td>Cabernet Sauvignon F Block</td>\n      <td>4.4</td>\n      <td>5.0</td>\n      <td>2.0</td>\n      <td>0.0</td>\n      <td>[2]</td>\n    </tr>\n    <tr>\n      <th>...</th>\n      <td>...</td>\n      <td>...</td>\n      <td>...</td>\n      <td>...</td>\n      <td>...</td>\n      <td>...</td>\n      <td>...</td>\n      <td>...</td>\n    </tr>\n    <tr>\n      <th>50855</th>\n      <td>50855</td>\n      <td>1669561</td>\n      <td>Garganega - Pinot Grigio</td>\n      <td>3.5</td>\n      <td>3.0</td>\n      <td>3.0</td>\n      <td>0.0</td>\n      <td>[104, 34]</td>\n    </tr>\n    <tr>\n      <th>50856</th>\n      <td>50856</td>\n      <td>1861275</td>\n      <td>Dadà Langhe Chardonnay</td>\n      <td>3.8</td>\n      <td>3.0</td>\n      <td>3.0</td>\n      <td>13.5</td>\n      <td>[5]</td>\n    </tr>\n    <tr>\n      <th>50857</th>\n      <td>50857</td>\n      <td>2201892</td>\n      <td>Metodo Zero Prosecco Extra Dry</td>\n      <td>3.9</td>\n      <td>1.0</td>\n      <td>3.0</td>\n      <td>0.0</td>\n      <td>[112]</td>\n    </tr>\n    <tr>\n      <th>50858</th>\n      <td>50858</td>\n      <td>2396179</td>\n      <td>Les Monts Damnés Sancerre</td>\n      <td>4.2</td>\n      <td>4.0</td>\n      <td>3.0</td>\n      <td>13.5</td>\n      <td>[17]</td>\n    </tr>\n    <tr>\n      <th>50859</th>\n      <td>50859</td>\n      <td>7715684</td>\n      <td>Gran Paso a Paso Doble Monastrell</td>\n      <td>4.1</td>\n      <td>5.0</td>\n      <td>3.0</td>\n      <td>0.0</td>\n      <td>[88]</td>\n    </tr>\n  </tbody>\n</table>\n<p>44023 rows × 8 columns</p>\n</div>"
     },
     "execution_count": 26,
     "metadata": {},
     "output_type": "execute_result"
    }
   ],
   "source": [
    "# Wine Data\n",
    "with open(os.path.join(directory, 'wine.json')) as f:\n",
    "    item_json = json.load(f)\n",
    "items = pd.DataFrame(item_json[\"data\"])\n",
    "items = items.dropna()\n",
    "items"
   ],
   "metadata": {
    "collapsed": false
   }
  },
  {
   "cell_type": "code",
   "execution_count": 27,
   "outputs": [
    {
     "data": {
      "text/plain": "       wine_id                               name  rating_average  body  \\\n0      1938520            1882 Cabernet Sauvignon             4.1   5.0   \n1        14604             Les Bessards Hermitage             4.3   5.0   \n2      1930757             Patriarch Estate Grown             4.6   4.0   \n3      1564280                             Merlot             4.3   4.0   \n4      2576427         Cabernet Sauvignon F Block             4.4   5.0   \n...        ...                                ...             ...   ...   \n50855  1669561           Garganega - Pinot Grigio             3.5   3.0   \n50856  1861275             Dadà Langhe Chardonnay             3.8   3.0   \n50857  2201892     Metodo Zero Prosecco Extra Dry             3.9   1.0   \n50858  2396179          Les Monts Damnés Sancerre             4.2   4.0   \n50859  7715684  Gran Paso a Paso Doble Monastrell             4.1   5.0   \n\n       acidity_x  alcohol  grapes_id  \n0            2.0     14.5        [2]  \n1            3.0     14.0        [1]  \n2            3.0     14.2    [2, 10]  \n3            3.0     14.4       [10]  \n4            2.0      0.0        [2]  \n...          ...      ...        ...  \n50855        3.0      0.0  [104, 34]  \n50856        3.0     13.5        [5]  \n50857        3.0      0.0      [112]  \n50858        3.0     13.5       [17]  \n50859        3.0      0.0       [88]  \n\n[44023 rows x 7 columns]",
      "text/html": "<div>\n<style scoped>\n    .dataframe tbody tr th:only-of-type {\n        vertical-align: middle;\n    }\n\n    .dataframe tbody tr th {\n        vertical-align: top;\n    }\n\n    .dataframe thead th {\n        text-align: right;\n    }\n</style>\n<table border=\"1\" class=\"dataframe\">\n  <thead>\n    <tr style=\"text-align: right;\">\n      <th></th>\n      <th>wine_id</th>\n      <th>name</th>\n      <th>rating_average</th>\n      <th>body</th>\n      <th>acidity_x</th>\n      <th>alcohol</th>\n      <th>grapes_id</th>\n    </tr>\n  </thead>\n  <tbody>\n    <tr>\n      <th>0</th>\n      <td>1938520</td>\n      <td>1882 Cabernet Sauvignon</td>\n      <td>4.1</td>\n      <td>5.0</td>\n      <td>2.0</td>\n      <td>14.5</td>\n      <td>[2]</td>\n    </tr>\n    <tr>\n      <th>1</th>\n      <td>14604</td>\n      <td>Les Bessards Hermitage</td>\n      <td>4.3</td>\n      <td>5.0</td>\n      <td>3.0</td>\n      <td>14.0</td>\n      <td>[1]</td>\n    </tr>\n    <tr>\n      <th>2</th>\n      <td>1930757</td>\n      <td>Patriarch Estate Grown</td>\n      <td>4.6</td>\n      <td>4.0</td>\n      <td>3.0</td>\n      <td>14.2</td>\n      <td>[2, 10]</td>\n    </tr>\n    <tr>\n      <th>3</th>\n      <td>1564280</td>\n      <td>Merlot</td>\n      <td>4.3</td>\n      <td>4.0</td>\n      <td>3.0</td>\n      <td>14.4</td>\n      <td>[10]</td>\n    </tr>\n    <tr>\n      <th>4</th>\n      <td>2576427</td>\n      <td>Cabernet Sauvignon F Block</td>\n      <td>4.4</td>\n      <td>5.0</td>\n      <td>2.0</td>\n      <td>0.0</td>\n      <td>[2]</td>\n    </tr>\n    <tr>\n      <th>...</th>\n      <td>...</td>\n      <td>...</td>\n      <td>...</td>\n      <td>...</td>\n      <td>...</td>\n      <td>...</td>\n      <td>...</td>\n    </tr>\n    <tr>\n      <th>50855</th>\n      <td>1669561</td>\n      <td>Garganega - Pinot Grigio</td>\n      <td>3.5</td>\n      <td>3.0</td>\n      <td>3.0</td>\n      <td>0.0</td>\n      <td>[104, 34]</td>\n    </tr>\n    <tr>\n      <th>50856</th>\n      <td>1861275</td>\n      <td>Dadà Langhe Chardonnay</td>\n      <td>3.8</td>\n      <td>3.0</td>\n      <td>3.0</td>\n      <td>13.5</td>\n      <td>[5]</td>\n    </tr>\n    <tr>\n      <th>50857</th>\n      <td>2201892</td>\n      <td>Metodo Zero Prosecco Extra Dry</td>\n      <td>3.9</td>\n      <td>1.0</td>\n      <td>3.0</td>\n      <td>0.0</td>\n      <td>[112]</td>\n    </tr>\n    <tr>\n      <th>50858</th>\n      <td>2396179</td>\n      <td>Les Monts Damnés Sancerre</td>\n      <td>4.2</td>\n      <td>4.0</td>\n      <td>3.0</td>\n      <td>13.5</td>\n      <td>[17]</td>\n    </tr>\n    <tr>\n      <th>50859</th>\n      <td>7715684</td>\n      <td>Gran Paso a Paso Doble Monastrell</td>\n      <td>4.1</td>\n      <td>5.0</td>\n      <td>3.0</td>\n      <td>0.0</td>\n      <td>[88]</td>\n    </tr>\n  </tbody>\n</table>\n<p>44023 rows × 7 columns</p>\n</div>"
     },
     "execution_count": 27,
     "metadata": {},
     "output_type": "execute_result"
    }
   ],
   "source": [
    "columns = ['wine_id', 'name', 'rating_average', 'body', 'acidity_x', 'alcohol', 'grapes_id']\n",
    "items = items[columns]\n",
    "items = items.dropna(subset=['wine_id', 'grapes_id'])\n",
    "items"
   ],
   "metadata": {
    "collapsed": false
   }
  },
  {
   "cell_type": "code",
   "execution_count": 28,
   "outputs": [
    {
     "data": {
      "text/plain": "       wine_id                               name  rating_average  body  \\\n0      1938520            1882 Cabernet Sauvignon             4.1   5.0   \n1        14604             Les Bessards Hermitage             4.3   5.0   \n2      1930757             Patriarch Estate Grown             4.6   4.0   \n3      1564280                             Merlot             4.3   4.0   \n4      2576427         Cabernet Sauvignon F Block             4.4   5.0   \n...        ...                                ...             ...   ...   \n50855  1669561           Garganega - Pinot Grigio             3.5   3.0   \n50856  1861275             Dadà Langhe Chardonnay             3.8   3.0   \n50857  2201892     Metodo Zero Prosecco Extra Dry             3.9   1.0   \n50858  2396179          Les Monts Damnés Sancerre             4.2   4.0   \n50859  7715684  Gran Paso a Paso Doble Monastrell             4.1   5.0   \n\n       acidity_x  alcohol grapes_id             wine_feats  \n0            2.0     14.5         2  [4.1, 5.0, 2.0, 14.5]  \n1            3.0     14.0         1  [4.3, 5.0, 3.0, 14.0]  \n2            3.0     14.2         2  [4.6, 4.0, 3.0, 14.2]  \n3            3.0     14.4         1  [4.3, 4.0, 3.0, 14.4]  \n4            2.0      0.0         2   [4.4, 5.0, 2.0, 0.0]  \n...          ...      ...       ...                    ...  \n50855        3.0      0.0         1   [3.5, 3.0, 3.0, 0.0]  \n50856        3.0     13.5         5  [3.8, 3.0, 3.0, 13.5]  \n50857        3.0      0.0         1   [3.9, 1.0, 3.0, 0.0]  \n50858        3.0     13.5         1  [4.2, 4.0, 3.0, 13.5]  \n50859        3.0      0.0         8   [4.1, 5.0, 3.0, 0.0]  \n\n[44023 rows x 8 columns]",
      "text/html": "<div>\n<style scoped>\n    .dataframe tbody tr th:only-of-type {\n        vertical-align: middle;\n    }\n\n    .dataframe tbody tr th {\n        vertical-align: top;\n    }\n\n    .dataframe thead th {\n        text-align: right;\n    }\n</style>\n<table border=\"1\" class=\"dataframe\">\n  <thead>\n    <tr style=\"text-align: right;\">\n      <th></th>\n      <th>wine_id</th>\n      <th>name</th>\n      <th>rating_average</th>\n      <th>body</th>\n      <th>acidity_x</th>\n      <th>alcohol</th>\n      <th>grapes_id</th>\n      <th>wine_feats</th>\n    </tr>\n  </thead>\n  <tbody>\n    <tr>\n      <th>0</th>\n      <td>1938520</td>\n      <td>1882 Cabernet Sauvignon</td>\n      <td>4.1</td>\n      <td>5.0</td>\n      <td>2.0</td>\n      <td>14.5</td>\n      <td>2</td>\n      <td>[4.1, 5.0, 2.0, 14.5]</td>\n    </tr>\n    <tr>\n      <th>1</th>\n      <td>14604</td>\n      <td>Les Bessards Hermitage</td>\n      <td>4.3</td>\n      <td>5.0</td>\n      <td>3.0</td>\n      <td>14.0</td>\n      <td>1</td>\n      <td>[4.3, 5.0, 3.0, 14.0]</td>\n    </tr>\n    <tr>\n      <th>2</th>\n      <td>1930757</td>\n      <td>Patriarch Estate Grown</td>\n      <td>4.6</td>\n      <td>4.0</td>\n      <td>3.0</td>\n      <td>14.2</td>\n      <td>2</td>\n      <td>[4.6, 4.0, 3.0, 14.2]</td>\n    </tr>\n    <tr>\n      <th>3</th>\n      <td>1564280</td>\n      <td>Merlot</td>\n      <td>4.3</td>\n      <td>4.0</td>\n      <td>3.0</td>\n      <td>14.4</td>\n      <td>1</td>\n      <td>[4.3, 4.0, 3.0, 14.4]</td>\n    </tr>\n    <tr>\n      <th>4</th>\n      <td>2576427</td>\n      <td>Cabernet Sauvignon F Block</td>\n      <td>4.4</td>\n      <td>5.0</td>\n      <td>2.0</td>\n      <td>0.0</td>\n      <td>2</td>\n      <td>[4.4, 5.0, 2.0, 0.0]</td>\n    </tr>\n    <tr>\n      <th>...</th>\n      <td>...</td>\n      <td>...</td>\n      <td>...</td>\n      <td>...</td>\n      <td>...</td>\n      <td>...</td>\n      <td>...</td>\n      <td>...</td>\n    </tr>\n    <tr>\n      <th>50855</th>\n      <td>1669561</td>\n      <td>Garganega - Pinot Grigio</td>\n      <td>3.5</td>\n      <td>3.0</td>\n      <td>3.0</td>\n      <td>0.0</td>\n      <td>1</td>\n      <td>[3.5, 3.0, 3.0, 0.0]</td>\n    </tr>\n    <tr>\n      <th>50856</th>\n      <td>1861275</td>\n      <td>Dadà Langhe Chardonnay</td>\n      <td>3.8</td>\n      <td>3.0</td>\n      <td>3.0</td>\n      <td>13.5</td>\n      <td>5</td>\n      <td>[3.8, 3.0, 3.0, 13.5]</td>\n    </tr>\n    <tr>\n      <th>50857</th>\n      <td>2201892</td>\n      <td>Metodo Zero Prosecco Extra Dry</td>\n      <td>3.9</td>\n      <td>1.0</td>\n      <td>3.0</td>\n      <td>0.0</td>\n      <td>1</td>\n      <td>[3.9, 1.0, 3.0, 0.0]</td>\n    </tr>\n    <tr>\n      <th>50858</th>\n      <td>2396179</td>\n      <td>Les Monts Damnés Sancerre</td>\n      <td>4.2</td>\n      <td>4.0</td>\n      <td>3.0</td>\n      <td>13.5</td>\n      <td>1</td>\n      <td>[4.2, 4.0, 3.0, 13.5]</td>\n    </tr>\n    <tr>\n      <th>50859</th>\n      <td>7715684</td>\n      <td>Gran Paso a Paso Doble Monastrell</td>\n      <td>4.1</td>\n      <td>5.0</td>\n      <td>3.0</td>\n      <td>0.0</td>\n      <td>8</td>\n      <td>[4.1, 5.0, 3.0, 0.0]</td>\n    </tr>\n  </tbody>\n</table>\n<p>44023 rows × 8 columns</p>\n</div>"
     },
     "execution_count": 28,
     "metadata": {},
     "output_type": "execute_result"
    }
   ],
   "source": [
    "items['grapes_id'] = [i[1] for i in items['grapes_id']]\n",
    "items['wine_feats'] = list(items[['rating_average', 'body', 'acidity_x', 'alcohol']].values)\n",
    "items"
   ],
   "metadata": {
    "collapsed": false
   }
  },
  {
   "cell_type": "code",
   "execution_count": 29,
   "outputs": [
    {
     "data": {
      "text/plain": "dict_keys(['schema', 'data'])"
     },
     "execution_count": 29,
     "metadata": {},
     "output_type": "execute_result"
    }
   ],
   "source": [
    "# Rating Data\n",
    "# 8:2\n",
    "columns = ['userID', 'wine_id', 'rating_per_user']\n",
    "\n",
    "with open(os.path.join(directory, 'train.json')) as f:\n",
    "    train = json.load(f)\n",
    "train.keys()"
   ],
   "metadata": {
    "collapsed": false
   }
  },
  {
   "cell_type": "code",
   "execution_count": 30,
   "outputs": [
    {
     "data": {
      "text/plain": "        index    userID  wine_id  rating_per_user\n0      633370   3201769    89202              3.0\n1      710514    602552  1145046              1.0\n2      249331    527081     1264              4.0\n3      166164  10465117  1142030              4.0\n4      271885  35392086  1231186              3.5\n...       ...       ...      ...              ...\n79995  146673   1434808  1984784              4.0\n79996  609310  14695535  1265906              4.0\n79997  269580    787767  1244403              3.5\n79998  114850  11335597  1126888              3.5\n79999  742364   3774689  1164751              2.0\n\n[80000 rows x 4 columns]",
      "text/html": "<div>\n<style scoped>\n    .dataframe tbody tr th:only-of-type {\n        vertical-align: middle;\n    }\n\n    .dataframe tbody tr th {\n        vertical-align: top;\n    }\n\n    .dataframe thead th {\n        text-align: right;\n    }\n</style>\n<table border=\"1\" class=\"dataframe\">\n  <thead>\n    <tr style=\"text-align: right;\">\n      <th></th>\n      <th>index</th>\n      <th>userID</th>\n      <th>wine_id</th>\n      <th>rating_per_user</th>\n    </tr>\n  </thead>\n  <tbody>\n    <tr>\n      <th>0</th>\n      <td>633370</td>\n      <td>3201769</td>\n      <td>89202</td>\n      <td>3.0</td>\n    </tr>\n    <tr>\n      <th>1</th>\n      <td>710514</td>\n      <td>602552</td>\n      <td>1145046</td>\n      <td>1.0</td>\n    </tr>\n    <tr>\n      <th>2</th>\n      <td>249331</td>\n      <td>527081</td>\n      <td>1264</td>\n      <td>4.0</td>\n    </tr>\n    <tr>\n      <th>3</th>\n      <td>166164</td>\n      <td>10465117</td>\n      <td>1142030</td>\n      <td>4.0</td>\n    </tr>\n    <tr>\n      <th>4</th>\n      <td>271885</td>\n      <td>35392086</td>\n      <td>1231186</td>\n      <td>3.5</td>\n    </tr>\n    <tr>\n      <th>...</th>\n      <td>...</td>\n      <td>...</td>\n      <td>...</td>\n      <td>...</td>\n    </tr>\n    <tr>\n      <th>79995</th>\n      <td>146673</td>\n      <td>1434808</td>\n      <td>1984784</td>\n      <td>4.0</td>\n    </tr>\n    <tr>\n      <th>79996</th>\n      <td>609310</td>\n      <td>14695535</td>\n      <td>1265906</td>\n      <td>4.0</td>\n    </tr>\n    <tr>\n      <th>79997</th>\n      <td>269580</td>\n      <td>787767</td>\n      <td>1244403</td>\n      <td>3.5</td>\n    </tr>\n    <tr>\n      <th>79998</th>\n      <td>114850</td>\n      <td>11335597</td>\n      <td>1126888</td>\n      <td>3.5</td>\n    </tr>\n    <tr>\n      <th>79999</th>\n      <td>742364</td>\n      <td>3774689</td>\n      <td>1164751</td>\n      <td>2.0</td>\n    </tr>\n  </tbody>\n</table>\n<p>80000 rows × 4 columns</p>\n</div>"
     },
     "execution_count": 30,
     "metadata": {},
     "output_type": "execute_result"
    }
   ],
   "source": [
    "train = pd.DataFrame(train['data'])\n",
    "train"
   ],
   "metadata": {
    "collapsed": false
   }
  },
  {
   "cell_type": "code",
   "execution_count": 31,
   "outputs": [
    {
     "data": {
      "text/plain": "        index    userID  wine_id  rating_per_user  like\n0      633370   3201769    89202              3.0     1\n2      249331    527081     1264              4.0     1\n3      166164  10465117  1142030              4.0     1\n4      271885  35392086  1231186              3.5     1\n5      318987    811680  1100962              3.0     1\n...       ...       ...      ...              ...   ...\n79994  207296  25893258  1254221              3.5     1\n79995  146673   1434808  1984784              4.0     1\n79996  609310  14695535  1265906              4.0     1\n79997  269580    787767  1244403              3.5     1\n79998  114850  11335597  1126888              3.5     1\n\n[76644 rows x 5 columns]",
      "text/html": "<div>\n<style scoped>\n    .dataframe tbody tr th:only-of-type {\n        vertical-align: middle;\n    }\n\n    .dataframe tbody tr th {\n        vertical-align: top;\n    }\n\n    .dataframe thead th {\n        text-align: right;\n    }\n</style>\n<table border=\"1\" class=\"dataframe\">\n  <thead>\n    <tr style=\"text-align: right;\">\n      <th></th>\n      <th>index</th>\n      <th>userID</th>\n      <th>wine_id</th>\n      <th>rating_per_user</th>\n      <th>like</th>\n    </tr>\n  </thead>\n  <tbody>\n    <tr>\n      <th>0</th>\n      <td>633370</td>\n      <td>3201769</td>\n      <td>89202</td>\n      <td>3.0</td>\n      <td>1</td>\n    </tr>\n    <tr>\n      <th>2</th>\n      <td>249331</td>\n      <td>527081</td>\n      <td>1264</td>\n      <td>4.0</td>\n      <td>1</td>\n    </tr>\n    <tr>\n      <th>3</th>\n      <td>166164</td>\n      <td>10465117</td>\n      <td>1142030</td>\n      <td>4.0</td>\n      <td>1</td>\n    </tr>\n    <tr>\n      <th>4</th>\n      <td>271885</td>\n      <td>35392086</td>\n      <td>1231186</td>\n      <td>3.5</td>\n      <td>1</td>\n    </tr>\n    <tr>\n      <th>5</th>\n      <td>318987</td>\n      <td>811680</td>\n      <td>1100962</td>\n      <td>3.0</td>\n      <td>1</td>\n    </tr>\n    <tr>\n      <th>...</th>\n      <td>...</td>\n      <td>...</td>\n      <td>...</td>\n      <td>...</td>\n      <td>...</td>\n    </tr>\n    <tr>\n      <th>79994</th>\n      <td>207296</td>\n      <td>25893258</td>\n      <td>1254221</td>\n      <td>3.5</td>\n      <td>1</td>\n    </tr>\n    <tr>\n      <th>79995</th>\n      <td>146673</td>\n      <td>1434808</td>\n      <td>1984784</td>\n      <td>4.0</td>\n      <td>1</td>\n    </tr>\n    <tr>\n      <th>79996</th>\n      <td>609310</td>\n      <td>14695535</td>\n      <td>1265906</td>\n      <td>4.0</td>\n      <td>1</td>\n    </tr>\n    <tr>\n      <th>79997</th>\n      <td>269580</td>\n      <td>787767</td>\n      <td>1244403</td>\n      <td>3.5</td>\n      <td>1</td>\n    </tr>\n    <tr>\n      <th>79998</th>\n      <td>114850</td>\n      <td>11335597</td>\n      <td>1126888</td>\n      <td>3.5</td>\n      <td>1</td>\n    </tr>\n  </tbody>\n</table>\n<p>76644 rows × 5 columns</p>\n</div>"
     },
     "execution_count": 31,
     "metadata": {},
     "output_type": "execute_result"
    }
   ],
   "source": [
    "'''\n",
    "* Like\n",
    "I thought about whether it would be a good choice to recommend an item that the user did not evaluate well.\n",
    "If you want to learn regardless of the rating, you can remove the code related to like.\n",
    "\n",
    "We set the standard for like as a rating of 3.\n",
    "I think it would be good to set this part according to your own thoughts.\n",
    "'''\n",
    "train['like'] = [1 if x >= 3 else 0 for x in train['rating_per_user']]\n",
    "train = train[train['like'] == 1]\n",
    "train"
   ],
   "metadata": {
    "collapsed": false
   }
  },
  {
   "cell_type": "code",
   "execution_count": 32,
   "outputs": [
    {
     "data": {
      "text/plain": "         userID  wine_id  rating_per_user\n0       3201769    89202              3.0\n2        527081     1264              4.0\n3      10465117  1142030              4.0\n4      35392086  1231186              3.5\n5        811680  1100962              3.0\n...         ...      ...              ...\n79994  25893258  1254221              3.5\n79995   1434808  1984784              4.0\n79996  14695535  1265906              4.0\n79997    787767  1244403              3.5\n79998  11335597  1126888              3.5\n\n[76644 rows x 3 columns]",
      "text/html": "<div>\n<style scoped>\n    .dataframe tbody tr th:only-of-type {\n        vertical-align: middle;\n    }\n\n    .dataframe tbody tr th {\n        vertical-align: top;\n    }\n\n    .dataframe thead th {\n        text-align: right;\n    }\n</style>\n<table border=\"1\" class=\"dataframe\">\n  <thead>\n    <tr style=\"text-align: right;\">\n      <th></th>\n      <th>userID</th>\n      <th>wine_id</th>\n      <th>rating_per_user</th>\n    </tr>\n  </thead>\n  <tbody>\n    <tr>\n      <th>0</th>\n      <td>3201769</td>\n      <td>89202</td>\n      <td>3.0</td>\n    </tr>\n    <tr>\n      <th>2</th>\n      <td>527081</td>\n      <td>1264</td>\n      <td>4.0</td>\n    </tr>\n    <tr>\n      <th>3</th>\n      <td>10465117</td>\n      <td>1142030</td>\n      <td>4.0</td>\n    </tr>\n    <tr>\n      <th>4</th>\n      <td>35392086</td>\n      <td>1231186</td>\n      <td>3.5</td>\n    </tr>\n    <tr>\n      <th>5</th>\n      <td>811680</td>\n      <td>1100962</td>\n      <td>3.0</td>\n    </tr>\n    <tr>\n      <th>...</th>\n      <td>...</td>\n      <td>...</td>\n      <td>...</td>\n    </tr>\n    <tr>\n      <th>79994</th>\n      <td>25893258</td>\n      <td>1254221</td>\n      <td>3.5</td>\n    </tr>\n    <tr>\n      <th>79995</th>\n      <td>1434808</td>\n      <td>1984784</td>\n      <td>4.0</td>\n    </tr>\n    <tr>\n      <th>79996</th>\n      <td>14695535</td>\n      <td>1265906</td>\n      <td>4.0</td>\n    </tr>\n    <tr>\n      <th>79997</th>\n      <td>787767</td>\n      <td>1244403</td>\n      <td>3.5</td>\n    </tr>\n    <tr>\n      <th>79998</th>\n      <td>11335597</td>\n      <td>1126888</td>\n      <td>3.5</td>\n    </tr>\n  </tbody>\n</table>\n<p>76644 rows × 3 columns</p>\n</div>"
     },
     "execution_count": 32,
     "metadata": {},
     "output_type": "execute_result"
    }
   ],
   "source": [
    "train = train[columns]\n",
    "train"
   ],
   "metadata": {
    "collapsed": false
   }
  },
  {
   "cell_type": "code",
   "execution_count": 33,
   "outputs": [
    {
     "data": {
      "text/plain": "         userID  wine_id  rating_per_user\n0       4694874  2050654              3.5\n1      29548898  2099476              4.0\n2       8995027    84700              4.0\n3       1614172    16778              4.5\n4        825579  1136013              3.5\n...         ...      ...              ...\n19995   9856812     7073              5.0\n19996  22632827  1126473              3.5\n19997   3628838  1211301              4.0\n19998  39185091  1136139              3.5\n19999  27584076    19279              4.5\n\n[19131 rows x 3 columns]",
      "text/html": "<div>\n<style scoped>\n    .dataframe tbody tr th:only-of-type {\n        vertical-align: middle;\n    }\n\n    .dataframe tbody tr th {\n        vertical-align: top;\n    }\n\n    .dataframe thead th {\n        text-align: right;\n    }\n</style>\n<table border=\"1\" class=\"dataframe\">\n  <thead>\n    <tr style=\"text-align: right;\">\n      <th></th>\n      <th>userID</th>\n      <th>wine_id</th>\n      <th>rating_per_user</th>\n    </tr>\n  </thead>\n  <tbody>\n    <tr>\n      <th>0</th>\n      <td>4694874</td>\n      <td>2050654</td>\n      <td>3.5</td>\n    </tr>\n    <tr>\n      <th>1</th>\n      <td>29548898</td>\n      <td>2099476</td>\n      <td>4.0</td>\n    </tr>\n    <tr>\n      <th>2</th>\n      <td>8995027</td>\n      <td>84700</td>\n      <td>4.0</td>\n    </tr>\n    <tr>\n      <th>3</th>\n      <td>1614172</td>\n      <td>16778</td>\n      <td>4.5</td>\n    </tr>\n    <tr>\n      <th>4</th>\n      <td>825579</td>\n      <td>1136013</td>\n      <td>3.5</td>\n    </tr>\n    <tr>\n      <th>...</th>\n      <td>...</td>\n      <td>...</td>\n      <td>...</td>\n    </tr>\n    <tr>\n      <th>19995</th>\n      <td>9856812</td>\n      <td>7073</td>\n      <td>5.0</td>\n    </tr>\n    <tr>\n      <th>19996</th>\n      <td>22632827</td>\n      <td>1126473</td>\n      <td>3.5</td>\n    </tr>\n    <tr>\n      <th>19997</th>\n      <td>3628838</td>\n      <td>1211301</td>\n      <td>4.0</td>\n    </tr>\n    <tr>\n      <th>19998</th>\n      <td>39185091</td>\n      <td>1136139</td>\n      <td>3.5</td>\n    </tr>\n    <tr>\n      <th>19999</th>\n      <td>27584076</td>\n      <td>19279</td>\n      <td>4.5</td>\n    </tr>\n  </tbody>\n</table>\n<p>19131 rows × 3 columns</p>\n</div>"
     },
     "execution_count": 33,
     "metadata": {},
     "output_type": "execute_result"
    }
   ],
   "source": [
    "with open(os.path.join(directory, 'test.json')) as f:\n",
    "    test = json.load(f)\n",
    "test = pd.DataFrame(test['data'])\n",
    "\n",
    "test['like'] = [1 if x >= 3 else 0 for x in test['rating_per_user']]\n",
    "test = test[test['like'] == 1]\n",
    "test = test[columns]\n",
    "test"
   ],
   "metadata": {
    "collapsed": false
   }
  },
  {
   "cell_type": "code",
   "execution_count": 34,
   "outputs": [],
   "source": [
    "ratings = pd.concat([train, test], axis=0, ignore_index=True)\n",
    "user_filter = [k for k, v in ratings['userID'].value_counts().items() if v > 1]\n",
    "ratings = ratings[ratings['userID'].isin(user_filter)]"
   ],
   "metadata": {
    "collapsed": false
   }
  },
  {
   "cell_type": "code",
   "execution_count": 35,
   "outputs": [
    {
     "data": {
      "text/plain": "         userID  wine_id  rating_per_user\n0       3201769    89202              3.0\n1        527081     1264              4.0\n2      10465117  1142030              4.0\n3      35392086  1231186              3.5\n4        811680  1100962              3.0\n...         ...      ...              ...\n95770   9856812     7073              5.0\n95771  22632827  1126473              3.5\n95772   3628838  1211301              4.0\n95773  39185091  1136139              3.5\n95774  27584076    19279              4.5\n\n[95046 rows x 3 columns]",
      "text/html": "<div>\n<style scoped>\n    .dataframe tbody tr th:only-of-type {\n        vertical-align: middle;\n    }\n\n    .dataframe tbody tr th {\n        vertical-align: top;\n    }\n\n    .dataframe thead th {\n        text-align: right;\n    }\n</style>\n<table border=\"1\" class=\"dataframe\">\n  <thead>\n    <tr style=\"text-align: right;\">\n      <th></th>\n      <th>userID</th>\n      <th>wine_id</th>\n      <th>rating_per_user</th>\n    </tr>\n  </thead>\n  <tbody>\n    <tr>\n      <th>0</th>\n      <td>3201769</td>\n      <td>89202</td>\n      <td>3.0</td>\n    </tr>\n    <tr>\n      <th>1</th>\n      <td>527081</td>\n      <td>1264</td>\n      <td>4.0</td>\n    </tr>\n    <tr>\n      <th>2</th>\n      <td>10465117</td>\n      <td>1142030</td>\n      <td>4.0</td>\n    </tr>\n    <tr>\n      <th>3</th>\n      <td>35392086</td>\n      <td>1231186</td>\n      <td>3.5</td>\n    </tr>\n    <tr>\n      <th>4</th>\n      <td>811680</td>\n      <td>1100962</td>\n      <td>3.0</td>\n    </tr>\n    <tr>\n      <th>...</th>\n      <td>...</td>\n      <td>...</td>\n      <td>...</td>\n    </tr>\n    <tr>\n      <th>95770</th>\n      <td>9856812</td>\n      <td>7073</td>\n      <td>5.0</td>\n    </tr>\n    <tr>\n      <th>95771</th>\n      <td>22632827</td>\n      <td>1126473</td>\n      <td>3.5</td>\n    </tr>\n    <tr>\n      <th>95772</th>\n      <td>3628838</td>\n      <td>1211301</td>\n      <td>4.0</td>\n    </tr>\n    <tr>\n      <th>95773</th>\n      <td>39185091</td>\n      <td>1136139</td>\n      <td>3.5</td>\n    </tr>\n    <tr>\n      <th>95774</th>\n      <td>27584076</td>\n      <td>19279</td>\n      <td>4.5</td>\n    </tr>\n  </tbody>\n</table>\n<p>95046 rows × 3 columns</p>\n</div>"
     },
     "execution_count": 35,
     "metadata": {},
     "output_type": "execute_result"
    }
   ],
   "source": [
    "ratings"
   ],
   "metadata": {
    "collapsed": false
   }
  },
  {
   "cell_type": "code",
   "execution_count": 115,
   "outputs": [],
   "source": [
    "m = (ratings['userID'].value_counts() == 7)"
   ],
   "metadata": {
    "collapsed": false
   }
  },
  {
   "cell_type": "code",
   "execution_count": 116,
   "outputs": [
    {
     "data": {
      "text/plain": "183836      7\n8882561     7\n3225781     7\n3912706     7\n13191685    7\n18189324    7\n3934018     7\n1009837     7\n2076035     7\n73013       7\n4505281     7\n2365098     7\n26503486    7\n10822212    7\n2138129     7\n9187145     7\n1371789     7\n19991573    7\n11933651    7\n1739543     7\n3774978     7\nName: userID, dtype: int64"
     },
     "execution_count": 116,
     "metadata": {},
     "output_type": "execute_result"
    }
   ],
   "source": [
    "ratings['userID'].value_counts()[m]"
   ],
   "metadata": {
    "collapsed": false
   }
  },
  {
   "cell_type": "code",
   "execution_count": null,
   "outputs": [],
   "source": [],
   "metadata": {
    "collapsed": false
   }
  }
 ],
 "metadata": {
  "kernelspec": {
   "display_name": "Python 3",
   "language": "python",
   "name": "python3"
  },
  "language_info": {
   "codemirror_mode": {
    "name": "ipython",
    "version": 2
   },
   "file_extension": ".py",
   "mimetype": "text/x-python",
   "name": "python",
   "nbconvert_exporter": "python",
   "pygments_lexer": "ipython2",
   "version": "2.7.6"
  }
 },
 "nbformat": 4,
 "nbformat_minor": 0
}
